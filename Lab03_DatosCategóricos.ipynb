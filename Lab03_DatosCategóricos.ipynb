{
  "nbformat": 4,
  "nbformat_minor": 0,
  "metadata": {
    "colab": {
      "provenance": [],
      "gpuType": "T4",
      "include_colab_link": true
    },
    "kernelspec": {
      "name": "python3",
      "display_name": "Python 3"
    },
    "language_info": {
      "name": "python"
    },
    "accelerator": "GPU"
  },
  "cells": [
    {
      "cell_type": "markdown",
      "metadata": {
        "id": "view-in-github",
        "colab_type": "text"
      },
      "source": [
        "<a href=\"https://colab.research.google.com/github/kjquisper/Digital/blob/master/Lab03_DatosCateg%C3%B3ricos.ipynb\" target=\"_parent\"><img src=\"https://colab.research.google.com/assets/colab-badge.svg\" alt=\"Open In Colab\"/></a>"
      ]
    },
    {
      "cell_type": "code",
      "execution_count": 1,
      "metadata": {
        "id": "8lGsp6aNjqHh",
        "colab": {
          "base_uri": "https://localhost:8080/"
        },
        "outputId": "f670245c-e71c-41eb-ab97-fdb7b139930b"
      },
      "outputs": [
        {
          "output_type": "stream",
          "name": "stdout",
          "text": [
            "     Date  Weekday_label  Month_sin  Month_cos  Temperature_ordinal  \\\n",
            "0   03-25              0      1.000        0.0                    2   \n",
            "1   03-26              1      1.000        0.0                    1   \n",
            "2   03-27              2      1.000        0.0                    2   \n",
            "3   03-28              3      1.000        0.0                    3   \n",
            "4   03-29              4      1.000        0.0                    1   \n",
            "5   03-30              5      1.000        0.0                    2   \n",
            "6   03-31              6      1.000        0.0                    2   \n",
            "7   04-01              0      0.866       -0.5                    1   \n",
            "8   04-02              1      0.866       -0.5                    2   \n",
            "9   04-03              2      0.866       -0.5                    3   \n",
            "10  04-04              3      0.866       -0.5                    2   \n",
            "11  04-05              4      0.866       -0.5                    1   \n",
            "\n",
            "    Humidity_target  Wind_binary  Outlook_sunny  Outlook_overcast  \\\n",
            "0              65.0            0           True             False   \n",
            "1              52.0            1          False             False   \n",
            "2              65.0            1          False              True   \n",
            "3              65.0            1           True             False   \n",
            "4              52.0            0          False             False   \n",
            "5              52.0            0          False              True   \n",
            "6              65.0            1           True             False   \n",
            "7              52.0            0          False             False   \n",
            "8              65.0            1           True             False   \n",
            "9              65.0            1          False              True   \n",
            "10             52.0            0           True             False   \n",
            "11             65.0            1          False             False   \n",
            "\n",
            "    Outlook_rainy  Crowdedness  \n",
            "0           False           85  \n",
            "1            True           30  \n",
            "2           False           65  \n",
            "3           False           45  \n",
            "4            True           25  \n",
            "5           False           90  \n",
            "6           False           95  \n",
            "7            True           35  \n",
            "8           False           70  \n",
            "9           False           50  \n",
            "10          False           80  \n",
            "11           True           45  \n"
          ]
        }
      ],
      "source": [
        "import pandas as pd\n",
        "import numpy as np\n",
        "\n",
        "# Crear un DataFrame a partir del diccionario\n",
        "# Create a DataFrame from the dictionary\n",
        "data = {\n",
        "    'Date': ['03-25', '03-26', '03-27', '03-28', '03-29', '03-30', '03-31', '04-01', '04-02', '04-03', '04-04', '04-05'],\n",
        "    'Weekday': ['Mon', 'Tue', 'Wed', 'Thu', 'Fri', 'Sat', 'Sun', 'Mon', 'Tue', 'Wed', 'Thu', 'Fri'],\n",
        "    'Month': ['Mar', 'Mar', 'Mar', 'Mar', 'Mar', 'Mar', 'Mar', 'Apr', 'Apr', 'Apr', 'Apr', 'Apr'],\n",
        "    'Temperature': ['High', 'Low', 'High', 'Extreme', 'Low', 'High', 'High', 'Low', 'High', 'Extreme', 'High', 'Low'],\n",
        "    'Humidity': ['Dry', 'Humid', 'Dry', 'Dry', 'Humid', 'Humid', 'Dry', 'Humid', 'Dry', 'Dry', 'Humid', 'Dry'],\n",
        "    'Wind': ['No', 'Yes', 'Yes', 'Yes', 'No', 'No', 'Yes', 'No', 'Yes', 'Yes', 'No', 'Yes'],\n",
        "    'Outlook': ['sunny', 'rainy', 'overcast', 'sunny', 'rainy', 'overcast', 'sunny', 'rainy', 'sunny', 'overcast', 'sunny', 'rainy'],\n",
        "    'Crowdedness': [85, 30, 65, 45, 25, 90, 95, 35, 70, 50, 80, 45]\n",
        "}\n",
        "\n",
        "df = pd.DataFrame(data)\n",
        "\n",
        "# 1. Codificación de etiquetas para 'Weekday'\n",
        "# 1. Label Encoding for Weekday\n",
        "df['Weekday_label'] = pd.factorize(df['Weekday'])[0]\n",
        "\n",
        "# 2. Codificación One-Hot para 'Outlook'\n",
        "# 2. One-Hot Encoding for Outlook\n",
        "df = pd.get_dummies(df, columns=['Outlook'], prefix='Outlook')\n",
        "\n",
        "# 3. Codificación binaria para 'Wind'\n",
        "# 3. Binary Encoding for Wind\n",
        "df['Wind_binary'] = (df['Wind'] == 'Yes').astype(int)\n",
        "\n",
        "# 4. Codificación de objetivo para 'Humidity'\n",
        "# 4. Target Encoding for Humidity\n",
        "df['Humidity_target'] = df.groupby('Humidity')['Crowdedness'].transform('mean')\n",
        "\n",
        "# 5. Codificación ordinal para 'Temperature'\n",
        "# 5. Ordinal Encoding for Temperature\n",
        "temp_order = {'Low': 1, 'High': 2, 'Extreme': 3}\n",
        "df['Temperature_ordinal'] = df['Temperature'].map(temp_order)\n",
        "\n",
        "# 6. Codificación cíclica para 'Month'\n",
        "# 6. Cyclic Encoding for Month\n",
        "month_order = {'Jan': 1, 'Feb': 2, 'Mar': 3, 'Apr': 4, 'May': 5, 'Jun': 6,\n",
        "               'Jul': 7, 'Aug': 8, 'Sep': 9, 'Oct': 10, 'Nov': 11, 'Dec': 12}\n",
        "df['Month_num'] = df['Month'].map(month_order)\n",
        "df['Month_sin'] = np.sin(2 * np.pi * df['Month_num'] / 12)\n",
        "df['Month_cos'] = np.cos(2 * np.pi * df['Month_num'] / 12)\n",
        "\n",
        "# Seleccionar y reorganizar las columnas numéricas\n",
        "# Select and rearrange numerical columns\n",
        "numerical_columns = [\n",
        "    'Date','Weekday_label',\n",
        "    'Month_sin', 'Month_cos',\n",
        "    'Temperature_ordinal',\n",
        "    'Humidity_target',\n",
        "    'Wind_binary',\n",
        "    'Outlook_sunny', 'Outlook_overcast', 'Outlook_rainy',\n",
        "    'Crowdedness'\n",
        "]\n",
        "\n",
        "# Mostrar las columnas numéricas reorganizadas\n",
        "# Display the rearranged numerical columns\n",
        "print(df[numerical_columns].round(3))"
      ]
    }
  ]
}